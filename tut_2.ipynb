{
 "cells": [
  {
   "cell_type": "code",
   "execution_count": 1,
   "metadata": {},
   "outputs": [],
   "source": [
    "import requests\n",
    "from bs4 import BeautifulSoup\n",
    "import random\n",
    "import time\n",
    "import pandas as pd\n",
    "import numpy as np\n",
    "from selenium import webdriver\n",
    "from selenium.webdriver.common.by import By\n",
    "from selenium.webdriver.common.keys import Keys\n",
    "import time\n",
    "from selenium.webdriver.support import expected_conditions as EC\n",
    "from selenium.webdriver.support.ui import WebDriverWait"
   ]
  },
  {
   "cell_type": "code",
   "execution_count": 14,
   "metadata": {},
   "outputs": [
    {
     "name": "stdout",
     "output_type": "stream",
     "text": [
      "Error general: Message: invalid argument\n",
      "  (Session info: MicrosoftEdge=131.0.2903.112)\n",
      "Stacktrace:\n",
      "\t(No symbol) [0x00007FF77D9B6B05]\n",
      "\tMicrosoft::Applications::Events::EventProperty::empty [0x00007FF77DCDF464+1437348]\n",
      "\t(No symbol) [0x00007FF77D89519A]\n",
      "\t(No symbol) [0x00007FF77D886ADC]\n",
      "\t(No symbol) [0x00007FF77D885599]\n",
      "\t(No symbol) [0x00007FF77D88591C]\n",
      "\t(No symbol) [0x00007FF77D897A4A]\n",
      "\t(No symbol) [0x00007FF77D91739E]\n",
      "\t(No symbol) [0x00007FF77D8FC19A]\n",
      "\t(No symbol) [0x00007FF77D8D3437]\n",
      "\t(No symbol) [0x00007FF77D916BFF]\n",
      "\t(No symbol) [0x00007FF77D8FBE03]\n",
      "\t(No symbol) [0x00007FF77D8D2984]\n",
      "\t(No symbol) [0x00007FF77D8D1E30]\n",
      "\t(No symbol) [0x00007FF77D8D2571]\n",
      "\tMicrosoft::Applications::Events::EventProperty::empty [0x00007FF77DC8BAF4+1094964]\n",
      "\t(No symbol) [0x00007FF77D9F32B8]\n",
      "\tMicrosoft::Applications::Events::EventProperty::empty [0x00007FF77DC8AF33+1091955]\n",
      "\tMicrosoft::Applications::Events::EventProperty::empty [0x00007FF77DC8AA99+1090777]\n",
      "\tMicrosoft::Applications::Events::ILogConfiguration::operator* [0x00007FF77DA90CA1+461569]\n",
      "\tMicrosoft::Applications::Events::ILogConfiguration::operator* [0x00007FF77DA8C9C4+444452]\n",
      "\tMicrosoft::Applications::Events::ILogConfiguration::operator* [0x00007FF77DA8CB09+444777]\n",
      "\tMicrosoft::Applications::Events::ILogConfiguration::operator* [0x00007FF77DA82186+401382]\n",
      "\tBaseThreadInitThunk [0x00007FF939F2259D+29]\n",
      "\tRtlUserThreadStart [0x00007FF93B82AF38+40]\n",
      "\n"
     ]
    }
   ],
   "source": [
    "driver = webdriver.Edge()\n",
    "url = driver.get(\"https://www.idealista.com/inmueble/105961551/\")\n",
    "try:\n",
    "    driver.get(url)\n",
    "    wait = WebDriverWait(driver, 5)\n",
    "    wait.until(EC.element_to_be_clickable((By.XPATH, \"/html/body/div[1]/div/div/div/div/div[2]/button[3]/span\")))\n",
    "    html = driver.page_source\n",
    "    soup = BeautifulSoup(html, \"lxml\")\n",
    "    \n",
    "    titulo = soup.find(\"span\", {\"class: main-info__title-main\"}).text\n",
    "    loaclizacion = soup.find(\"span\", {\"class: main-info__title-minor\"}).text.split(\",\")[0]\n",
    "    precio = int(soup.find(\"span\", {\"class: txt-bold\"}).text.replace(\".\", \"\"))\n",
    "\n",
    "    c = soup.find(\"section\", {\"class: details-box\"})\n",
    "    for li in c.find_all(\"li\"):\n",
    "        c_basicas = li.text.strip()\n",
    "\n",
    "    articles = soup.find(\"main\", {\"class: listing-items\"}).find_all(\"article\")\n",
    "    for article in articles:\n",
    "        id_muebles = article.get(\"data-adid\")\n",
    "        for muebles in id_muebles:\n",
    "            if muebles is not None:\n",
    "                id_muebles = muebles    \n",
    "\n",
    "    print(f\"Titulo : {titulo}\")\n",
    "    print(f\"Locaclizacion : {loaclizacion}\")\n",
    "    print(f\"Precio : {precio}\")\n",
    "    print(f\"Caracteristicas : {id_muebles}\")\n",
    "\n",
    "except Exception as e:\n",
    "    print(\"Error general:\", e)\n"
   ]
  },
  {
   "cell_type": "code",
   "execution_count": null,
   "metadata": {},
   "outputs": [],
   "source": [
    "busqueda = \"torrent\"\n",
    "x = 1\n",
    "ids = []\n",
    "\n",
    "while True:\n",
    "    url = f\"https://www.idealista.com/venta-viviendas/valencia/{busqueda}/pagina-{x}.htm\"\n",
    "    driver.get(url)\n",
    "    time.sleep(random.randint(10,12))\n",
    "\n",
    "    try:\n",
    "        driver.find_element(By.XPATH, \"\").click()\n",
    "    except:\n",
    "        pass\n",
    "\n",
    "    html = driver.page_source\n",
    "    soup = BeautifulSoup(html, \"lxml\")\n",
    "    \n",
    "    "
   ]
  }
 ],
 "metadata": {
  "kernelspec": {
   "display_name": "Python 3",
   "language": "python",
   "name": "python3"
  },
  "language_info": {
   "codemirror_mode": {
    "name": "ipython",
    "version": 3
   },
   "file_extension": ".py",
   "mimetype": "text/x-python",
   "name": "python",
   "nbconvert_exporter": "python",
   "pygments_lexer": "ipython3",
   "version": "3.12.2"
  }
 },
 "nbformat": 4,
 "nbformat_minor": 2
}
