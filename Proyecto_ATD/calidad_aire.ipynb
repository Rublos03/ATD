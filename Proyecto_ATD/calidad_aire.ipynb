{
 "cells": [
  {
   "cell_type": "code",
   "execution_count": 6,
   "metadata": {},
   "outputs": [
    {
     "name": "stdout",
     "output_type": "stream",
     "text": [
      "Ciudad: Molí del Sol, València, Valencia, Spain AQI\n",
      "Valor AQI: 34\n",
      "Calidad del Aire: Good\n",
      "Última Actualización: Updated Mon 11:00\n",
      "Temperatura Extra: Temp.: 15.3°C\n",
      "--------------------------------------------------\n"
     ]
    }
   ],
   "source": [
    "from selenium import webdriver\n",
    "from selenium.webdriver.common.by import By\n",
    "from selenium.webdriver.common.keys import Keys\n",
    "from selenium.webdriver.support.ui import WebDriverWait\n",
    "from selenium.webdriver.support import expected_conditions as EC\n",
    "\n",
    "\n",
    "ciudad = input(\"Que provincia quieres consultar: \")\n",
    "\n",
    "# Configuración del controlador\n",
    "driver = webdriver.Edge()\n",
    "\n",
    "try:\n",
    "    # Configuración del tiempo de espera\n",
    "    wait = WebDriverWait(driver, timeout=10)\n",
    "\n",
    "    # Abrir la página web\n",
    "    driver.get(\"https://aqicn.org/city/spain/es/\")\n",
    "\n",
    "    # Hacer clic en el botón inicial\n",
    "    buscar = wait.until(EC.element_to_be_clickable((By.XPATH, \"/html/body/div[5]/center/table/tbody/tr/td[6]/center/a/div/span\")))\n",
    "    buscar.click()\n",
    "\n",
    "    # Encontrar el campo de búsqueda y escribir \"Valencia\"\n",
    "    buscador = wait.until(EC.presence_of_element_located((By.ID, \"full-page-search-input\")))\n",
    "    buscador.send_keys(ciudad)\n",
    "    buscador.send_keys(Keys.RETURN)\n",
    "\n",
    "    # Esperar a que los resultados estén cargados\n",
    "    wait.until(EC.presence_of_element_located((By.ID, \"searchResults\")))\n",
    "\n",
    "    # Hacer clic en la primera opción\n",
    "    first_option = wait.until(EC.element_to_be_clickable((By.XPATH, \"/html/body/div[7]/div[2]/div/center/div/div[1]/center/table/tbody/tr[2]/td/div/div/a[1]\")))\n",
    "    first_option.click()\n",
    "\n",
    "    # Extraer los datos necesarios\n",
    "    city = wait.until(EC.presence_of_element_located((By.ID, \"aqiwgttitle1\"))).text  # Cambié \"_istranslated=1\" por \"h2\"\n",
    "    num = wait.until(EC.presence_of_element_located((By.CLASS_NAME, \"aqivalue\"))).text\n",
    "    calidad = wait.until(EC.presence_of_element_located((By.ID, \"aqiwgtinfo\"))).text\n",
    "    act = wait.until(EC.presence_of_element_located((By.ID, \"aqiwgtutime\"))).text\n",
    "    temp = wait.until(EC.presence_of_element_located((By.ID, \"aqiwgtxtrainfo\"))).text\n",
    "\n",
    "    # Almacenar los datos en una lista\n",
    "    resultados = [\n",
    "        {\"Ciudad\": city, \"Valor AQI\": num, \"Calidad del Aire\": calidad, \"Última Actualización\": act, \"Temperatura Extra\": temp}\n",
    "    ]\n",
    "\n",
    "    # Imprimir los resultados\n",
    "    for resultado in resultados:\n",
    "        print(f\"Ciudad: {resultado['Ciudad']}\")\n",
    "        print(f\"Valor AQI: {resultado['Valor AQI']}\")\n",
    "        print(f\"Calidad del Aire: {resultado['Calidad del Aire']}\")\n",
    "        print(f\"Última Actualización: {resultado['Última Actualización']}\")\n",
    "        print(f\"Temperatura Extra: {resultado['Temperatura Extra']}\")\n",
    "        print(\"-\" * 50)\n",
    "\n",
    "except Exception as e:\n",
    "    print(\"Ocurrió un error:\", e)\n",
    "\n",
    "finally:\n",
    "    driver.quit()"
   ]
  },
  {
   "cell_type": "code",
   "execution_count": null,
   "metadata": {},
   "outputs": [],
   "source": []
  }
 ],
 "metadata": {
  "kernelspec": {
   "display_name": "Python 3",
   "language": "python",
   "name": "python3"
  },
  "language_info": {
   "codemirror_mode": {
    "name": "ipython",
    "version": 3
   },
   "file_extension": ".py",
   "mimetype": "text/x-python",
   "name": "python",
   "nbconvert_exporter": "python",
   "pygments_lexer": "ipython3",
   "version": "3.12.2"
  }
 },
 "nbformat": 4,
 "nbformat_minor": 2
}
