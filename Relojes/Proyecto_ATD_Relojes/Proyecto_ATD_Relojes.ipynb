{
 "cells": [
  {
   "cell_type": "markdown",
   "metadata": {},
   "source": [
    "# Archivos Totalmente Limpios y Normalizados"
   ]
  },
  {
   "cell_type": "code",
   "execution_count": 1,
   "metadata": {},
   "outputs": [],
   "source": [
    "import pandas as pd"
   ]
  },
  {
   "cell_type": "code",
   "execution_count": 5,
   "metadata": {},
   "outputs": [],
   "source": [
    "# Cargar el archivo Excel\n",
    "# Asegúrate de reemplazar \"archivo.xlsx\" con la ruta a tu archivo\n",
    "ruta_excel = \"relojes_definitivo.xlsx\"\n",
    "df = pd.read_excel(ruta_excel)\n",
    "\n",
    "# Convertir el DataFrame a JSON\n",
    "ruta_json = \"Proyecto_ATD_Relojes.json\"  # Ruta donde se guardará el archivo JSON\n",
    "df.to_json(ruta_json, orient=\"records\", indent=4, force_ascii=False)"
   ]
  },
  {
   "cell_type": "code",
   "execution_count": 6,
   "metadata": {},
   "outputs": [
    {
     "data": {
      "text/html": [
       "<div>\n",
       "<style scoped>\n",
       "    .dataframe tbody tr th:only-of-type {\n",
       "        vertical-align: middle;\n",
       "    }\n",
       "\n",
       "    .dataframe tbody tr th {\n",
       "        vertical-align: top;\n",
       "    }\n",
       "\n",
       "    .dataframe thead th {\n",
       "        text-align: right;\n",
       "    }\n",
       "</style>\n",
       "<table border=\"1\" class=\"dataframe\">\n",
       "  <thead>\n",
       "    <tr style=\"text-align: right;\">\n",
       "      <th></th>\n",
       "      <th>Marca</th>\n",
       "      <th>Modelo</th>\n",
       "      <th>Precio</th>\n",
       "      <th>Año</th>\n",
       "      <th>Número de referencia</th>\n",
       "      <th>Estado_1</th>\n",
       "      <th>Estado_2</th>\n",
       "      <th>Accesorios</th>\n",
       "    </tr>\n",
       "  </thead>\n",
       "  <tbody>\n",
       "    <tr>\n",
       "      <th>0</th>\n",
       "      <td>Audemars Piguet</td>\n",
       "      <td>Royal Oak Offshore Chronograph</td>\n",
       "      <td>34690</td>\n",
       "      <td>2011.0</td>\n",
       "      <td>26400RO.OO.A002CA.01</td>\n",
       "      <td>Usado (Muy bueno)\\n\\n</td>\n",
       "      <td>El artículo presenta ligeras señales de uso, c...</td>\n",
       "      <td>Con documentos originales, sin estuche original</td>\n",
       "    </tr>\n",
       "    <tr>\n",
       "      <th>1</th>\n",
       "      <td>Patek Philippe</td>\n",
       "      <td>Nautilus</td>\n",
       "      <td>74990</td>\n",
       "      <td>2009.0</td>\n",
       "      <td>5712G-001\\n(Nautilus Fase lunar)</td>\n",
       "      <td>Usado (Muy bueno)\\n\\n</td>\n",
       "      <td>El artículo presenta ligeras señales de uso, c...</td>\n",
       "      <td>Con estuche original, con documentos originales</td>\n",
       "    </tr>\n",
       "    <tr>\n",
       "      <th>2</th>\n",
       "      <td>Audemars Piguet</td>\n",
       "      <td>Royal Oak Selfwinding</td>\n",
       "      <td>29492</td>\n",
       "      <td>2018.0</td>\n",
       "      <td>15450OR.OO.D002CR.01\\n(Royal Oak Selfwinding 3...</td>\n",
       "      <td>Usado (Muy bueno)\\n\\n</td>\n",
       "      <td>El artículo presenta ligeras señales de uso, c...</td>\n",
       "      <td>Con estuche original, con documentos originales</td>\n",
       "    </tr>\n",
       "    <tr>\n",
       "      <th>3</th>\n",
       "      <td>Rolex</td>\n",
       "      <td>Oyster Perpetual Date</td>\n",
       "      <td>3900</td>\n",
       "      <td>1972.0</td>\n",
       "      <td>1500\\n(Oyster Perpetual Vintage)</td>\n",
       "      <td>Usado (Muy bueno)\\n\\n</td>\n",
       "      <td>El artículo presenta ligeras señales de uso, c...</td>\n",
       "      <td>Con estuche original, con documentos originales</td>\n",
       "    </tr>\n",
       "    <tr>\n",
       "      <th>4</th>\n",
       "      <td>Rolex</td>\n",
       "      <td>Daytona</td>\n",
       "      <td>107597</td>\n",
       "      <td>2022.0</td>\n",
       "      <td>116506\\n(Ice)</td>\n",
       "      <td>Usado (Muy bueno)\\n\\n</td>\n",
       "      <td>El artículo presenta ligeras señales de uso, c...</td>\n",
       "      <td>Con estuche original, con documentos originales</td>\n",
       "    </tr>\n",
       "    <tr>\n",
       "      <th>...</th>\n",
       "      <td>...</td>\n",
       "      <td>...</td>\n",
       "      <td>...</td>\n",
       "      <td>...</td>\n",
       "      <td>...</td>\n",
       "      <td>...</td>\n",
       "      <td>...</td>\n",
       "      <td>...</td>\n",
       "    </tr>\n",
       "    <tr>\n",
       "      <th>130</th>\n",
       "      <td>Rolex</td>\n",
       "      <td>Oysterquartz Day-Date</td>\n",
       "      <td>16090</td>\n",
       "      <td>1983.0</td>\n",
       "      <td>NaN</td>\n",
       "      <td>Usado (Bueno)\\n\\n</td>\n",
       "      <td>NaN</td>\n",
       "      <td>Con estuche original, con documentos originales</td>\n",
       "    </tr>\n",
       "    <tr>\n",
       "      <th>131</th>\n",
       "      <td>Audemars Piguet</td>\n",
       "      <td>Royal Oak Concept Flying Tourbillon GMT</td>\n",
       "      <td>326243</td>\n",
       "      <td>2019.0</td>\n",
       "      <td>NaN</td>\n",
       "      <td>Usado (Bueno)\\n\\n</td>\n",
       "      <td>NaN</td>\n",
       "      <td>NaN</td>\n",
       "    </tr>\n",
       "    <tr>\n",
       "      <th>132</th>\n",
       "      <td>Patek Philippe</td>\n",
       "      <td>Calatrava</td>\n",
       "      <td>14260</td>\n",
       "      <td>1970.0</td>\n",
       "      <td>NaN</td>\n",
       "      <td>Usado (Bueno)\\n\\n</td>\n",
       "      <td>NaN</td>\n",
       "      <td>NaN</td>\n",
       "    </tr>\n",
       "    <tr>\n",
       "      <th>133</th>\n",
       "      <td>Audemars Piguet</td>\n",
       "      <td>Royal Oak Offshore Diver</td>\n",
       "      <td>36781</td>\n",
       "      <td>2016.0</td>\n",
       "      <td>NaN</td>\n",
       "      <td>Usado (Bueno)\\n\\n</td>\n",
       "      <td>NaN</td>\n",
       "      <td>NaN</td>\n",
       "    </tr>\n",
       "    <tr>\n",
       "      <th>134</th>\n",
       "      <td>Rolex</td>\n",
       "      <td>GMT-Master II</td>\n",
       "      <td>13930</td>\n",
       "      <td>2002.0</td>\n",
       "      <td>NaN</td>\n",
       "      <td>Usado (Bueno)\\n\\n</td>\n",
       "      <td>NaN</td>\n",
       "      <td>NaN</td>\n",
       "    </tr>\n",
       "  </tbody>\n",
       "</table>\n",
       "<p>135 rows × 8 columns</p>\n",
       "</div>"
      ],
      "text/plain": [
       "               Marca                                   Modelo  Precio     Año  \\\n",
       "0    Audemars Piguet           Royal Oak Offshore Chronograph   34690  2011.0   \n",
       "1     Patek Philippe                                 Nautilus   74990  2009.0   \n",
       "2    Audemars Piguet                    Royal Oak Selfwinding   29492  2018.0   \n",
       "3              Rolex                    Oyster Perpetual Date    3900  1972.0   \n",
       "4              Rolex                                  Daytona  107597  2022.0   \n",
       "..               ...                                      ...     ...     ...   \n",
       "130            Rolex                    Oysterquartz Day-Date   16090  1983.0   \n",
       "131  Audemars Piguet  Royal Oak Concept Flying Tourbillon GMT  326243  2019.0   \n",
       "132   Patek Philippe                                Calatrava   14260  1970.0   \n",
       "133  Audemars Piguet                 Royal Oak Offshore Diver   36781  2016.0   \n",
       "134            Rolex                            GMT-Master II   13930  2002.0   \n",
       "\n",
       "                                  Número de referencia               Estado_1  \\\n",
       "0                                 26400RO.OO.A002CA.01  Usado (Muy bueno)\\n\\n   \n",
       "1                     5712G-001\\n(Nautilus Fase lunar)  Usado (Muy bueno)\\n\\n   \n",
       "2    15450OR.OO.D002CR.01\\n(Royal Oak Selfwinding 3...  Usado (Muy bueno)\\n\\n   \n",
       "3                     1500\\n(Oyster Perpetual Vintage)  Usado (Muy bueno)\\n\\n   \n",
       "4                                        116506\\n(Ice)  Usado (Muy bueno)\\n\\n   \n",
       "..                                                 ...                    ...   \n",
       "130                                                NaN      Usado (Bueno)\\n\\n   \n",
       "131                                                NaN      Usado (Bueno)\\n\\n   \n",
       "132                                                NaN      Usado (Bueno)\\n\\n   \n",
       "133                                                NaN      Usado (Bueno)\\n\\n   \n",
       "134                                                NaN      Usado (Bueno)\\n\\n   \n",
       "\n",
       "                                              Estado_2  \\\n",
       "0    El artículo presenta ligeras señales de uso, c...   \n",
       "1    El artículo presenta ligeras señales de uso, c...   \n",
       "2    El artículo presenta ligeras señales de uso, c...   \n",
       "3    El artículo presenta ligeras señales de uso, c...   \n",
       "4    El artículo presenta ligeras señales de uso, c...   \n",
       "..                                                 ...   \n",
       "130                                                NaN   \n",
       "131                                                NaN   \n",
       "132                                                NaN   \n",
       "133                                                NaN   \n",
       "134                                                NaN   \n",
       "\n",
       "                                          Accesorios  \n",
       "0    Con documentos originales, sin estuche original  \n",
       "1    Con estuche original, con documentos originales  \n",
       "2    Con estuche original, con documentos originales  \n",
       "3    Con estuche original, con documentos originales  \n",
       "4    Con estuche original, con documentos originales  \n",
       "..                                               ...  \n",
       "130  Con estuche original, con documentos originales  \n",
       "131                                              NaN  \n",
       "132                                              NaN  \n",
       "133                                              NaN  \n",
       "134                                              NaN  \n",
       "\n",
       "[135 rows x 8 columns]"
      ]
     },
     "execution_count": 6,
     "metadata": {},
     "output_type": "execute_result"
    }
   ],
   "source": [
    "df"
   ]
  },
  {
   "cell_type": "code",
   "execution_count": 11,
   "metadata": {},
   "outputs": [],
   "source": [
    "rolex = df[df[\"Marca\"]==\"Rolex\"]\n",
    "pp = df[df[\"Marca\"]==\"Patek Philippe\"]\n",
    "ap = df[df[\"Marca\"]==\"Audemars Piguet\"]"
   ]
  },
  {
   "cell_type": "code",
   "execution_count": 13,
   "metadata": {},
   "outputs": [
    {
     "data": {
      "text/plain": [
       "44"
      ]
     },
     "execution_count": 13,
     "metadata": {},
     "output_type": "execute_result"
    }
   ],
   "source": [
    "len(rolex)"
   ]
  },
  {
   "cell_type": "code",
   "execution_count": 14,
   "metadata": {},
   "outputs": [
    {
     "data": {
      "text/plain": [
       "43"
      ]
     },
     "execution_count": 14,
     "metadata": {},
     "output_type": "execute_result"
    }
   ],
   "source": [
    "len(pp)"
   ]
  },
  {
   "cell_type": "code",
   "execution_count": 15,
   "metadata": {},
   "outputs": [
    {
     "data": {
      "text/plain": [
       "48"
      ]
     },
     "execution_count": 15,
     "metadata": {},
     "output_type": "execute_result"
    }
   ],
   "source": [
    "len(ap)"
   ]
  }
 ],
 "metadata": {
  "kernelspec": {
   "display_name": "Python 3",
   "language": "python",
   "name": "python3"
  },
  "language_info": {
   "codemirror_mode": {
    "name": "ipython",
    "version": 3
   },
   "file_extension": ".py",
   "mimetype": "text/x-python",
   "name": "python",
   "nbconvert_exporter": "python",
   "pygments_lexer": "ipython3",
   "version": "3.12.2"
  }
 },
 "nbformat": 4,
 "nbformat_minor": 2
}
